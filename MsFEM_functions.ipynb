{
 "cells": [
  {
   "cell_type": "code",
   "execution_count": 19,
   "source": [
    "# Importing necessary libraries\r\n",
    "from scipy.sparse import csr_matrix, identity, csc_matrix, lil_matrix #, coo_matrix, dok_matrix, diags\r\n",
    "from scipy.sparse.linalg import spsolve #, lsqr, lsmr, \r\n",
    "from scipy.linalg import eig, eigh\r\n",
    "import scipy as sp\r\n",
    "from numpy import pi, exp, sin, cos\r\n",
    "import numpy as np\r\n",
    "np.set_printoptions(linewidth=150, precision=15, floatmode='maxprec')\r\n",
    "import pandas as pd\r\n",
    "# pd.set_option('precision', 15)\r\n",
    "import matplotlib.pyplot as plt\r\n",
    "import seaborn as sns\r\n",
    "sns.set_style('darkgrid')"
   ],
   "outputs": [],
   "metadata": {
    "ExecuteTime": {
     "end_time": "2020-05-28T18:42:13.703825Z",
     "start_time": "2020-05-28T18:42:12.761840Z"
    }
   }
  },
  {
   "cell_type": "code",
   "execution_count": 20,
   "source": [
    "def finematrix_2d(pfield, Nx, Ny, nx, ny):\r\n",
    "    \"\"\"\r\n",
    "                         boundary1\r\n",
    "                       ------------\r\n",
    "                      |            |\r\n",
    "           boundary4  |     K      |  boundary3\r\n",
    "                      |            |\r\n",
    "                       ------------\r\n",
    "                        boundary2\r\n",
    "    \"\"\"\r\n",
    "    (hx, hy) = (1/(Nx*nx), 1/(Ny*ny))\r\n",
    "    (lx, ly) = (Nx*nx+1, Ny*ny+1)\r\n",
    "    (ratiox, ratioy) = (hy/hx, hx/hy)\r\n",
    "    \r\n",
    "    idx = np.arange(ly*lx).reshape((ly, lx), order='F')\r\n",
    "    bdry1 = idx[0, :]      # First row (bdry1)\r\n",
    "    bdry2 = idx[-1, :]     # Last  row  (bdry2)\r\n",
    "    bdry3 = idx[1:-1, 0]   # bdry3\r\n",
    "    bdry4 = idx[1:-1,-1]   # bdry4\r\n",
    "    boundary = np.hstack((bdry1, bdry2, bdry3, bdry4))\r\n",
    "    \r\n",
    "    idx1 = idx[0:-1, 0:-1].flatten(order='F') # array vs vector .reshape((-1, 1), order='F')\r\n",
    "    idx2 = (idx1 + ly).flatten(order='F')\r\n",
    "    idx3 = (idx1 + ly + 1).flatten(order='F')\r\n",
    "    idx4 = (idx1 + 1).flatten(order='F')\r\n",
    "    \r\n",
    "    lst1 = np.array([2, -2, -1, 1,  -2, 2, 1, -1,  -1, 1, 2, -2,  1, -1, -2, 2]).reshape(-1, 1)\r\n",
    "    lst2 = np.array([2, 1, -1, -2,  1, 2, -2, -1,  -1, -2, 2, 1,  -2, -1, 1, 2]).reshape(-1, 1)\r\n",
    "    data1= np.kron(lst1*ratiox + lst2*ratioy, pfield.reshape((-1, 1), order='F'))/6\r\n",
    "    lst3 = np.array([4, 2, 1, 2,  2, 4, 2, 1,  1, 2, 4, 2,  2, 1, 2, 4]).reshape(-1,1)\r\n",
    "    data2= np.kron(lst3, np.ones((pfield.size, 1)))*(hx*hy)/36\r\n",
    "    \r\n",
    "    #row_ind= np.vstack((idx1,idx2,idx3,idx4, idx1,idx2,idx3,idx4, idx1,idx2,idx3,idx4, idx1,idx2,idx3,idx4))\r\n",
    "    #col_ind= np.vstack((idx1,idx1,idx1,idx1, idx2,idx2,idx2,idx2, idx3,idx3,idx3,idx3, idx4,idx4,idx4,idx4))\r\n",
    "    row_ind = np.tile(np.vstack((idx1, idx2, idx3, idx4)), (4,1))\r\n",
    "    col_ind = np.vstack((np.tile(idx1, (4,1)), np.tile(idx2, (4,1)), np.tile(idx3, (4,1)), np.tile(idx4, (4,1))))\r\n",
    "    \r\n",
    "    Global_DA = csr_matrix((data1.reshape(-1), (row_ind.reshape(-1), col_ind.reshape(-1)))) #Global Stiffness \r\n",
    "    Global_DA.eliminate_zeros()\r\n",
    "    \r\n",
    "    Global_M  = csr_matrix((data2.reshape(-1), (row_ind.reshape(-1), col_ind.reshape(-1)))) #Global Mass\r\n",
    "    Global_M.eliminate_zeros()\r\n",
    "    return Global_DA, Global_M, boundary"
   ],
   "outputs": [],
   "metadata": {
    "ExecuteTime": {
     "end_time": "2020-05-28T18:42:13.738457Z",
     "start_time": "2020-05-28T18:42:13.722584Z"
    }
   }
  },
  {
   "cell_type": "code",
   "execution_count": null,
   "source": [
    "def form_source(f, Nx, Ny, nx, ny):\r\n",
    "    (hx, hy) = (1/(Nx*nx), 1/(Ny*ny))\r\n",
    "    (lx, ly) = (Nx*nx+1, Ny*ny+1)\r\n",
    "    idx = np.arange(ly*lx).reshape((ly, lx), order='F')\r\n",
    "    \r\n",
    "    idx1 = idx[0:-1, 0:-1].flatten(order='F') # same with .reshape((-1, 1), order='F') #rowwise  'F', colwise 'C'\r\n",
    "    idx2 = (idx1 + ly).flatten(order='F')\r\n",
    "    idx3 = (idx1 + 1).flatten(order='F')\r\n",
    "    idx4 = (idx1 + 1 + ly).flatten(order='F')\r\n",
    "    \r\n",
    "    data= hx*hy*np.kron(np.ones((4,1)), f.flatten(order='F'))/4\r\n",
    "    row_ind = np.vstack((idx1, idx2, idx3, idx4))\r\n",
    "    col_ind = np.zeros((4*Nx*nx*Ny*ny, 1),  dtype=int)\r\n",
    "    \r\n",
    "    F = csr_matrix((data.reshape(-1), (row_ind.reshape(-1), col_ind.reshape(-1))))\r\n",
    "    F.eliminate_zeros()\r\n",
    "    return F"
   ],
   "outputs": [],
   "metadata": {
    "ExecuteTime": {
     "end_time": "2020-05-28T18:42:13.885508Z",
     "start_time": "2020-05-28T18:42:13.876795Z"
    }
   }
  },
  {
   "cell_type": "code",
   "execution_count": null,
   "source": [
    "def MsFEM_2d_basis(Global_DA, Nx, Ny, nx, ny):\r\n",
    "    (lx, ly) = (Nx*nx+1, Ny*ny+1)\r\n",
    "    #loc_basis = np.zeros((lx*ly, (Nx+1)*(Ny+1))) # lz = Nz*nz+1 for z in {x, y}\r\n",
    "    loc_basis = lil_matrix((lx*ly, (Nx+1)*(Ny+1))) # in some cases lil in others csr is faster\r\n",
    "    loc_boundary1 = np.arange(0, (ny+1)*(nx+1), ny+1)                 \r\n",
    "    loc_boundary2 = np.arange(ny, (ny+1)*(nx+1), ny+1)          \r\n",
    "    loc_boundary3 = np.arange(1, ny)\r\n",
    "    loc_boundary4 = np.arange(nx*(ny+1)+1, (ny+1)*(nx+1)-1)\r\n",
    "    loc_boundary  = np.hstack((loc_boundary1, loc_boundary2, loc_boundary3, loc_boundary4))\r\n",
    "    \r\n",
    "    (loc_X, loc_Y) = np.meshgrid(np.linspace(0, 1, nx+1), np.linspace(0, 1, ny+1))\r\n",
    "    \r\n",
    "    #X.T.flat is same with X.flatten.reshape((-1, 1), order='F') or X.respahe((-1,1), order='F')\r\n",
    "    #X.flat gives the flattened matrix in 'C' format, while X.T.flat is in 'F' format\r\n",
    "    \r\n",
    "    F = np.zeros(((nx+1)*(ny+1), 4))\r\n",
    "    F[loc_boundary, 0] = (1-loc_X.T.flat[loc_boundary])*(1-loc_Y.T.flat[loc_boundary])\r\n",
    "    F[loc_boundary, 1] = (1-loc_X.T.flat[loc_boundary])*(  loc_Y.T.flat[loc_boundary])\r\n",
    "    F[loc_boundary, 2] = (  loc_X.T.flat[loc_boundary])*(1-loc_Y.T.flat[loc_boundary])\r\n",
    "    F[loc_boundary, 3] = (  loc_X.T.flat[loc_boundary])*(  loc_Y.T.flat[loc_boundary])\r\n",
    "    \r\n",
    "    idx = np.arange(lx*ly).reshape(ly, lx, order='F')\r\n",
    "    \r\n",
    "    for i in np.arange(Nx):\r\n",
    "        for j in np.arange(Ny):\r\n",
    "            loc_idx = idx[np.ix_(j*ny + np.arange(ny+1), i*nx + np.arange(nx+1))] #np.ix_ for submatrices\r\n",
    "            #loc_idx = loc_idx.reshape(-1, order='F')       #loc_idx.T.flat is the same but is an iterator\r\n",
    "            loc_A = Global_DA[loc_idx.T.flat, :][:, loc_idx.T.flat].tolil()\r\n",
    "            loc_A[loc_boundary, :] = 0\r\n",
    "            #loc_A[loc_boundary, :][:, loc_boundary] = identity(2*(ny+nx)) #sparse identity matrix\r\n",
    "            loc_A[loc_boundary , loc_boundary] = 1\r\n",
    "            loc_basis[np.ix_(loc_idx.T.flat, [i*(Ny+1)+j, i*(Ny+1)+j+1, (i+1)*(Ny+1)+j, (i+1)*(Ny+1)+j+1])] = \\\r\n",
    "                     spsolve(csr_matrix(loc_A), F, use_umfpack=True) \r\n",
    "            \r\n",
    "    return csr_matrix(loc_basis)"
   ],
   "outputs": [],
   "metadata": {
    "ExecuteTime": {
     "end_time": "2020-05-29T03:52:50.839385Z",
     "start_time": "2020-05-29T03:52:50.823333Z"
    }
   }
  }
 ],
 "metadata": {
  "kernelspec": {
   "name": "python3",
   "display_name": "Python 3.9.13 64-bit ('tf': conda)"
  },
  "language_info": {
   "codemirror_mode": {
    "name": "ipython",
    "version": 3
   },
   "file_extension": ".py",
   "mimetype": "text/x-python",
   "name": "python",
   "nbconvert_exporter": "python",
   "pygments_lexer": "ipython3",
   "version": "3.9.13"
  },
  "varInspector": {
   "cols": {
    "lenName": "10",
    "lenType": "10",
    "lenVar": 40
   },
   "kernels_config": {
    "python": {
     "delete_cmd_postfix": "",
     "delete_cmd_prefix": "del ",
     "library": "var_list.py",
     "varRefreshCmd": "print(var_dic_list())"
    },
    "r": {
     "delete_cmd_postfix": ") ",
     "delete_cmd_prefix": "rm(",
     "library": "var_list.r",
     "varRefreshCmd": "cat(var_dic_list()) "
    }
   },
   "types_to_exclude": [
    "module",
    "function",
    "builtin_function_or_method",
    "instance",
    "_Feature"
   ],
   "window_display": false
  },
  "interpreter": {
   "hash": "42ea256837e8b580a3e343a3dc491dda7db1afbcb857598bbc8bc7558fc19f2f"
  }
 },
 "nbformat": 4,
 "nbformat_minor": 4
}